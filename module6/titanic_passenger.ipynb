{
 "cells": [
  {
   "cell_type": "markdown",
   "metadata": {},
   "source": [
    "## Chi-Squared Analysis\n",
    "\n",
    "### First Question: Did more women and children survived compare to men?\n",
    "\n",
    "Dataset from Canvas (Titanic_Passenger_List.csv)"
   ]
  },
  {
   "cell_type": "code",
   "execution_count": 1,
   "metadata": {},
   "outputs": [
    {
     "data": {
      "text/html": [
       "<div>\n",
       "<style scoped>\n",
       "    .dataframe tbody tr th:only-of-type {\n",
       "        vertical-align: middle;\n",
       "    }\n",
       "\n",
       "    .dataframe tbody tr th {\n",
       "        vertical-align: top;\n",
       "    }\n",
       "\n",
       "    .dataframe thead th {\n",
       "        text-align: right;\n",
       "    }\n",
       "</style>\n",
       "<table border=\"1\" class=\"dataframe\">\n",
       "  <thead>\n",
       "    <tr style=\"text-align: right;\">\n",
       "      <th></th>\n",
       "      <th>Name</th>\n",
       "      <th>Born</th>\n",
       "      <th>Died</th>\n",
       "      <th>Age</th>\n",
       "      <th>Gender</th>\n",
       "      <th>Passenger_Class</th>\n",
       "      <th>Lived_Died</th>\n",
       "      <th>Fare</th>\n",
       "      <th>Fare_decimal</th>\n",
       "    </tr>\n",
       "  </thead>\n",
       "  <tbody>\n",
       "    <tr>\n",
       "      <th>0</th>\n",
       "      <td>DEAN, Miss Elizabeth Gladys Millvina</td>\n",
       "      <td>1912.0</td>\n",
       "      <td>2009.0</td>\n",
       "      <td>0.166667</td>\n",
       "      <td>Female</td>\n",
       "      <td>3</td>\n",
       "      <td>lived</td>\n",
       "      <td>£20             11s             6d</td>\n",
       "      <td>20.58</td>\n",
       "    </tr>\n",
       "    <tr>\n",
       "      <th>1</th>\n",
       "      <td>DANBOM, Master Gilbert Sigvard Emanuel</td>\n",
       "      <td>1911.0</td>\n",
       "      <td>1912.0</td>\n",
       "      <td>0.333333</td>\n",
       "      <td>Male</td>\n",
       "      <td>3</td>\n",
       "      <td>died</td>\n",
       "      <td>£14             8s</td>\n",
       "      <td>14.40</td>\n",
       "    </tr>\n",
       "    <tr>\n",
       "      <th>2</th>\n",
       "      <td>TANNūS, Master As'ad</td>\n",
       "      <td>1911.0</td>\n",
       "      <td>1931.0</td>\n",
       "      <td>0.416667</td>\n",
       "      <td>Male</td>\n",
       "      <td>3</td>\n",
       "      <td>lived</td>\n",
       "      <td>£8             10s             4d</td>\n",
       "      <td>8.52</td>\n",
       "    </tr>\n",
       "    <tr>\n",
       "      <th>3</th>\n",
       "      <td>PEACOCK, Master Albert Edward</td>\n",
       "      <td>1911.0</td>\n",
       "      <td>1912.0</td>\n",
       "      <td>0.583333</td>\n",
       "      <td>Male</td>\n",
       "      <td>3</td>\n",
       "      <td>died</td>\n",
       "      <td>£13             15s             6d</td>\n",
       "      <td>13.78</td>\n",
       "    </tr>\n",
       "    <tr>\n",
       "      <th>4</th>\n",
       "      <td>RICHARDS, Master Sibley George</td>\n",
       "      <td>1911.0</td>\n",
       "      <td>1987.0</td>\n",
       "      <td>0.750000</td>\n",
       "      <td>Male</td>\n",
       "      <td>2</td>\n",
       "      <td>lived</td>\n",
       "      <td>£18             15s</td>\n",
       "      <td>18.75</td>\n",
       "    </tr>\n",
       "  </tbody>\n",
       "</table>\n",
       "</div>"
      ],
      "text/plain": [
       "                                     Name    Born    Died       Age  Gender  \\\n",
       "0    DEAN, Miss Elizabeth Gladys Millvina  1912.0  2009.0  0.166667  Female   \n",
       "1  DANBOM, Master Gilbert Sigvard Emanuel  1911.0  1912.0  0.333333    Male   \n",
       "2                    TANNūS, Master As'ad  1911.0  1931.0  0.416667    Male   \n",
       "3           PEACOCK, Master Albert Edward  1911.0  1912.0  0.583333    Male   \n",
       "4          RICHARDS, Master Sibley George  1911.0  1987.0  0.750000    Male   \n",
       "\n",
       "   Passenger_Class Lived_Died                                Fare  \\\n",
       "0                3      lived  £20             11s             6d   \n",
       "1                3       died                  £14             8s   \n",
       "2                3      lived   £8             10s             4d   \n",
       "3                3       died  £13             15s             6d   \n",
       "4                2      lived                 £18             15s   \n",
       "\n",
       "   Fare_decimal  \n",
       "0         20.58  \n",
       "1         14.40  \n",
       "2          8.52  \n",
       "3         13.78  \n",
       "4         18.75  "
      ]
     },
     "execution_count": 1,
     "metadata": {},
     "output_type": "execute_result"
    }
   ],
   "source": [
    "import pandas as pd\n",
    "import matplotlib.pyplot as plt\n",
    "\n",
    "\n",
    "passenger_df = pd.read_csv('../data/Titanic_Passengers.csv')\n",
    "passenger_df.head()"
   ]
  },
  {
   "cell_type": "markdown",
   "metadata": {},
   "source": [
    "- What kind of data is the `dependent` variable?\n",
    "    - \n",
    "- What kind of data is the `Gender` (indep. variable)?\n",
    "    - Nonimal \n",
    "\n",
    "Two Types:\n",
    "    - `Ordinal` data.  Date that can be ordered\n",
    "    - `Categorical/nominal`. Data that can not be ordered"
   ]
  },
  {
   "cell_type": "code",
   "execution_count": 2,
   "metadata": {},
   "outputs": [
    {
     "name": "stdout",
     "output_type": "stream",
     "text": [
      "Lived_Died  died  lived\n",
      "Gender                 \n",
      "Female       143    339\n",
      "Male         709    161\n"
     ]
    }
   ],
   "source": [
    "# Margins = True will show the summery\n",
    "contingency_table = pd.crosstab(passenger_df['Gender'], passenger_df['Lived_Died'])\n",
    "# Excludes the last column and row Summary\n",
    "# For plotting do not include the margins = True\n",
    "print(contingency_table)"
   ]
  },
  {
   "cell_type": "code",
   "execution_count": 3,
   "metadata": {},
   "outputs": [
    {
     "data": {
      "image/png": "[encoded data removed]",
      "text/plain": [
       "<Figure size 640x480 with 1 Axes>"
      ]
     },
     "metadata": {},
     "output_type": "display_data"
    }
   ],
   "source": [
    "# Task: Create a Stacked bar char showing the number of passenger by gender\n",
    "contingency_table.plot(kind='bar', stacked=True)\n",
    "plt.ylabel('Count')\n",
    "plt.show()"
   ]
  },
  {
   "cell_type": "code",
   "execution_count": 4,
   "metadata": {},
   "outputs": [
    {
     "name": "stdout",
     "output_type": "stream",
     "text": [
      "(355.24355436145913, 3.0570688722545846e-79, 1)\n"
     ]
    }
   ],
   "source": [
    "from scipy import stats # for chi2_contingency\n",
    "\n",
    "print(stats.chi2_contingency(contingency_table)[0:3])\n",
    "# You get 3 values back\n",
    "# 1) Chi-Squared: The higher the chi-squared statistics, the less likelihood that the observed values were the result of pure chance\n",
    "# 2) Target P-value: \n",
    "# 3) Degree of freedom: 1 degree if freedom. (r rows - 1) * ( r columns -1) = 1"
   ]
  },
  {
   "cell_type": "markdown",
   "metadata": {},
   "source": [
    "## Chi-square Example: Was Age relevant?"
   ]
  },
  {
   "cell_type": "code",
   "execution_count": 9,
   "metadata": {},
   "outputs": [
    {
     "name": "stdout",
     "output_type": "stream",
     "text": [
      "Name                0\n",
      "Born               24\n",
      "Died               43\n",
      "Age                24\n",
      "Gender              0\n",
      "Passenger_Class     0\n",
      "Lived_Died          0\n",
      "Fare               31\n",
      "Fare_decimal       31\n",
      "age_bins           24\n",
      "dtype: int64\n",
      "Lived_Died  died  lived\n",
      "age_bins               \n",
      "(0, 10]       46     54\n",
      "(10, 20]     156     71\n",
      "(20, 30]     286    166\n",
      "(30, 40]     158    107\n",
      "(40, 50]     111     64\n",
      "(50, 60]      40     30\n",
      "(60, 70]      27      7\n",
      "(70, 80]       5      0\n",
      "Chi2-Stats (24.465546982751874, 0.0009433264132943263, 7)\n"
     ]
    }
   ],
   "source": [
    "# Check age column: Age column is the age they where during the titanic incident\n",
    "# What about the null values\n",
    "print(passenger_df.isnull().sum())\n",
    "\n",
    "# Create the Bins\n",
    "#passenger_df['age_bins'] = pd.cut(x=passenger_df['Age'], bins= [0, 10, 20, 30, 40, 50, 60, 70, 80])\n",
    "passenger_df['age_bins'] = pd.cut(x=passenger_df['Age'], bins= range(0, 90, 10)) # ^ Another way to do the above\n",
    "\n",
    "contingency_table = pd.crosstab(passenger_df['age_bins'], passenger_df['Lived_Died'])\n",
    "print(contingency_table)\n",
    "print(f'Chi2-Stats {stats.chi2_contingency(contingency_table)[0:3]}')"
   ]
  },
  {
   "cell_type": "code",
   "execution_count": 14,
   "metadata": {},
   "outputs": [
    {
     "name": "stderr",
     "output_type": "stream",
     "text": [
      "C:\\Users\\gambl\\AppData\\Local\\Temp\\ipykernel_3856\\3297845806.py:1: FutureWarning: The default of observed=False is deprecated and will be changed to True in a future version of pandas. Pass observed=False to retain current behavior or observed=True to adopt the future default and silence this warning.\n",
      "  passenger_df.groupby(['age_bins', 'Lived_Died']).size().unstack().plot(kind='bar', stacked=False)\n"
     ]
    },
    {
     "data": {
      "text/plain": [
       "Text(0.5, 1.0, 'Histogram of Age Ranges')"
      ]
     },
     "execution_count": 14,
     "metadata": {},
     "output_type": "execute_result"
    },
    {
     "data": {
      "image/png": "[encoded data removed]",
      "text/plain": [
       "<Figure size 640x480 with 1 Axes>"
      ]
     },
     "metadata": {},
     "output_type": "display_data"
    }
   ],
   "source": [
    "passenger_df.groupby(['age_bins', 'Lived_Died']).size().unstack().plot(kind='bar', stacked=False)\n",
    "plt.xlabel('Age Ranges')\n",
    "plt.ylabel('Count')\n",
    "plt.title('Histogram of Age Ranges')"
   ]
  },
  {
   "cell_type": "code",
   "execution_count": 36,
   "metadata": {},
   "outputs": [
    {
     "data": {
      "text/html": [
       "<div>\n",
       "<style scoped>\n",
       "    .dataframe tbody tr th:only-of-type {\n",
       "        vertical-align: middle;\n",
       "    }\n",
       "\n",
       "    .dataframe tbody tr th {\n",
       "        vertical-align: top;\n",
       "    }\n",
       "\n",
       "    .dataframe thead th {\n",
       "        text-align: right;\n",
       "    }\n",
       "</style>\n",
       "<table border=\"1\" class=\"dataframe\">\n",
       "  <thead>\n",
       "    <tr style=\"text-align: right;\">\n",
       "      <th></th>\n",
       "      <th>Name</th>\n",
       "      <th>Born</th>\n",
       "      <th>Died</th>\n",
       "      <th>Age</th>\n",
       "      <th>Gender</th>\n",
       "      <th>Passenger_Class</th>\n",
       "      <th>Lived_Died</th>\n",
       "      <th>Fare</th>\n",
       "      <th>Fare_decimal</th>\n",
       "    </tr>\n",
       "  </thead>\n",
       "  <tbody>\n",
       "    <tr>\n",
       "      <th>0</th>\n",
       "      <td>DEAN, Miss Elizabeth Gladys Millvina</td>\n",
       "      <td>1912.0</td>\n",
       "      <td>2009.0</td>\n",
       "      <td>0.166667</td>\n",
       "      <td>Female</td>\n",
       "      <td>3</td>\n",
       "      <td>lived</td>\n",
       "      <td>£20             11s             6d</td>\n",
       "      <td>20.58</td>\n",
       "    </tr>\n",
       "    <tr>\n",
       "      <th>1</th>\n",
       "      <td>DANBOM, Master Gilbert Sigvard Emanuel</td>\n",
       "      <td>1911.0</td>\n",
       "      <td>1912.0</td>\n",
       "      <td>0.333333</td>\n",
       "      <td>Male</td>\n",
       "      <td>3</td>\n",
       "      <td>died</td>\n",
       "      <td>£14             8s</td>\n",
       "      <td>14.40</td>\n",
       "    </tr>\n",
       "    <tr>\n",
       "      <th>2</th>\n",
       "      <td>TANNūS, Master As'ad</td>\n",
       "      <td>1911.0</td>\n",
       "      <td>1931.0</td>\n",
       "      <td>0.416667</td>\n",
       "      <td>Male</td>\n",
       "      <td>3</td>\n",
       "      <td>lived</td>\n",
       "      <td>£8             10s             4d</td>\n",
       "      <td>8.52</td>\n",
       "    </tr>\n",
       "    <tr>\n",
       "      <th>3</th>\n",
       "      <td>PEACOCK, Master Albert Edward</td>\n",
       "      <td>1911.0</td>\n",
       "      <td>1912.0</td>\n",
       "      <td>0.583333</td>\n",
       "      <td>Male</td>\n",
       "      <td>3</td>\n",
       "      <td>died</td>\n",
       "      <td>£13             15s             6d</td>\n",
       "      <td>13.78</td>\n",
       "    </tr>\n",
       "    <tr>\n",
       "      <th>4</th>\n",
       "      <td>RICHARDS, Master Sibley George</td>\n",
       "      <td>1911.0</td>\n",
       "      <td>1987.0</td>\n",
       "      <td>0.750000</td>\n",
       "      <td>Male</td>\n",
       "      <td>2</td>\n",
       "      <td>lived</td>\n",
       "      <td>£18             15s</td>\n",
       "      <td>18.75</td>\n",
       "    </tr>\n",
       "    <tr>\n",
       "      <th>...</th>\n",
       "      <td>...</td>\n",
       "      <td>...</td>\n",
       "      <td>...</td>\n",
       "      <td>...</td>\n",
       "      <td>...</td>\n",
       "      <td>...</td>\n",
       "      <td>...</td>\n",
       "      <td>...</td>\n",
       "      <td>...</td>\n",
       "    </tr>\n",
       "    <tr>\n",
       "      <th>1347</th>\n",
       "      <td>FLETCHER, Miss N.</td>\n",
       "      <td>NaN</td>\n",
       "      <td>NaN</td>\n",
       "      <td>NaN</td>\n",
       "      <td>Female</td>\n",
       "      <td>1</td>\n",
       "      <td>died</td>\n",
       "      <td>£1             10s</td>\n",
       "      <td>1.50</td>\n",
       "    </tr>\n",
       "    <tr>\n",
       "      <th>1348</th>\n",
       "      <td>STEVENS, Mr George</td>\n",
       "      <td>NaN</td>\n",
       "      <td>NaN</td>\n",
       "      <td>NaN</td>\n",
       "      <td>Male</td>\n",
       "      <td>1</td>\n",
       "      <td>died</td>\n",
       "      <td>£1             10s</td>\n",
       "      <td>1.50</td>\n",
       "    </tr>\n",
       "    <tr>\n",
       "      <th>1349</th>\n",
       "      <td>CARRUTHERS, Mr Francis</td>\n",
       "      <td>NaN</td>\n",
       "      <td>NaN</td>\n",
       "      <td>NaN</td>\n",
       "      <td>Male</td>\n",
       "      <td>1</td>\n",
       "      <td>died</td>\n",
       "      <td>NaN</td>\n",
       "      <td>NaN</td>\n",
       "    </tr>\n",
       "    <tr>\n",
       "      <th>1350</th>\n",
       "      <td>COLLIS, Mr</td>\n",
       "      <td>NaN</td>\n",
       "      <td>NaN</td>\n",
       "      <td>NaN</td>\n",
       "      <td>Male</td>\n",
       "      <td>1</td>\n",
       "      <td>died</td>\n",
       "      <td>NaN</td>\n",
       "      <td>NaN</td>\n",
       "    </tr>\n",
       "    <tr>\n",
       "      <th>1351</th>\n",
       "      <td>WILDING, Mr Edward</td>\n",
       "      <td>NaN</td>\n",
       "      <td>NaN</td>\n",
       "      <td>NaN</td>\n",
       "      <td>Male</td>\n",
       "      <td>1</td>\n",
       "      <td>died</td>\n",
       "      <td>NaN</td>\n",
       "      <td>NaN</td>\n",
       "    </tr>\n",
       "  </tbody>\n",
       "</table>\n",
       "<p>1352 rows × 9 columns</p>\n",
       "</div>"
      ],
      "text/plain": [
       "                                        Name    Born    Died       Age  \\\n",
       "0       DEAN, Miss Elizabeth Gladys Millvina  1912.0  2009.0  0.166667   \n",
       "1     DANBOM, Master Gilbert Sigvard Emanuel  1911.0  1912.0  0.333333   \n",
       "2                       TANNūS, Master As'ad  1911.0  1931.0  0.416667   \n",
       "3              PEACOCK, Master Albert Edward  1911.0  1912.0  0.583333   \n",
       "4             RICHARDS, Master Sibley George  1911.0  1987.0  0.750000   \n",
       "...                                      ...     ...     ...       ...   \n",
       "1347                       FLETCHER, Miss N.     NaN     NaN       NaN   \n",
       "1348                      STEVENS, Mr George     NaN     NaN       NaN   \n",
       "1349                  CARRUTHERS, Mr Francis     NaN     NaN       NaN   \n",
       "1350                              COLLIS, Mr     NaN     NaN       NaN   \n",
       "1351                      WILDING, Mr Edward     NaN     NaN       NaN   \n",
       "\n",
       "      Gender  Passenger_Class Lived_Died                                Fare  \\\n",
       "0     Female                3      lived  £20             11s             6d   \n",
       "1       Male                3       died                  £14             8s   \n",
       "2       Male                3      lived   £8             10s             4d   \n",
       "3       Male                3       died  £13             15s             6d   \n",
       "4       Male                2      lived                 £18             15s   \n",
       "...      ...              ...        ...                                 ...   \n",
       "1347  Female                1       died                  £1             10s   \n",
       "1348    Male                1       died                  £1             10s   \n",
       "1349    Male                1       died                                 NaN   \n",
       "1350    Male                1       died                                 NaN   \n",
       "1351    Male                1       died                                 NaN   \n",
       "\n",
       "      Fare_decimal  \n",
       "0            20.58  \n",
       "1            14.40  \n",
       "2             8.52  \n",
       "3            13.78  \n",
       "4            18.75  \n",
       "...            ...  \n",
       "1347          1.50  \n",
       "1348          1.50  \n",
       "1349           NaN  \n",
       "1350           NaN  \n",
       "1351           NaN  \n",
       "\n",
       "[1352 rows x 9 columns]"
      ]
     },
     "execution_count": 36,
     "metadata": {},
     "output_type": "execute_result"
    }
   ],
   "source": [
    "# Create a heatmap\n",
    "import pandas as pd\n",
    "import seaborn as sns\n",
    "import matplotlib.pyplot as plt\n",
    "%matplotlib inline\n",
    "from sklearn import preprocessing\n",
    "passenger_df = pd.read_csv('../data/Titanic_Passengers.csv')\n",
    "\n",
    "passenger_df"
   ]
  },
  {
   "cell_type": "code",
   "execution_count": 32,
   "metadata": {},
   "outputs": [
    {
     "name": "stderr",
     "output_type": "stream",
     "text": [
      "C:\\Users\\gambl\\AppData\\Local\\Temp\\ipykernel_3856\\838029817.py:9: FutureWarning: The default value of observed=False is deprecated and will change to observed=True in a future version of pandas. Specify observed=False to silence this warning and retain the current behavior\n",
      "  pivot_table = pd.pivot_table(passenger_df, values='Lived_Died_Int', index=['Gender'], columns=['age_bins'])\n",
      "C:\\Users\\gambl\\AppData\\Local\\Temp\\ipykernel_3856\\838029817.py:10: FutureWarning: DataFrame.applymap has been deprecated. Use DataFrame.map instead.\n",
      "  pivot_table.applymap(lambda x: 1-x)\n"
     ]
    },
    {
     "data": {
      "text/plain": [
       "<Axes: xlabel='age_bins', ylabel='Gender'>"
      ]
     },
     "execution_count": 32,
     "metadata": {},
     "output_type": "execute_result"
    },
    {
     "data": {
      "image/png": "[encoded data removed]",
      "text/plain": [
       "<Figure size 1200x500 with 2 Axes>"
      ]
     },
     "metadata": {},
     "output_type": "display_data"
    }
   ],
   "source": [
    "# Drop Column you do not want\n",
    "passenger_df = pd.read_csv('../data/Titanic_Passengers.csv')\n",
    "passenger_df.drop(['Name', 'Born', 'Died', 'Fare', 'Fare_decimal', 'Passenger_Class'], axis=1, inplace=True)\n",
    "passenger_df.dropna(inplace=True)\n",
    "\n",
    "le = preprocessing.LabelEncoder()\n",
    "passenger_df['Lived_Died_Int'] = le.fit_transform(passenger_df['Lived_Died'])\n",
    "passenger_df['age_bins'] = pd.cut(x=passenger_df['Age'], bins=range(0,90,10))\n",
    "pivot_table = pd.pivot_table(passenger_df, values='Lived_Died_Int', index=['Gender'], columns=['age_bins']) \n",
    "pivot_table.applymap(lambda x: 1-x)\n",
    "\n",
    "plt.figure(figsize=(12,5))\n",
    "x_axis_lables = ['0-9', '10-19', '20-29', '30-39', '40-49', '50-59', '60-69', '70-79']\n",
    "sns.heatmap(pivot_table, annot=True, yticklabels=['Female, Male'], xticklabels=x_axis_lables, fmt='.2f', cmap='rocket')"
   ]
  },
  {
   "cell_type": "code",
   "execution_count": 35,
   "metadata": {},
   "outputs": [
    {
     "data": {
      "text/html": [
       "<div>\n",
       "<style scoped>\n",
       "    .dataframe tbody tr th:only-of-type {\n",
       "        vertical-align: middle;\n",
       "    }\n",
       "\n",
       "    .dataframe tbody tr th {\n",
       "        vertical-align: top;\n",
       "    }\n",
       "\n",
       "    .dataframe thead th {\n",
       "        text-align: right;\n",
       "    }\n",
       "</style>\n",
       "<table border=\"1\" class=\"dataframe\">\n",
       "  <thead>\n",
       "    <tr style=\"text-align: right;\">\n",
       "      <th>Lived_Died</th>\n",
       "      <th>died</th>\n",
       "      <th>lived</th>\n",
       "      <th>All</th>\n",
       "    </tr>\n",
       "    <tr>\n",
       "      <th>Passenger_Class</th>\n",
       "      <th></th>\n",
       "      <th></th>\n",
       "      <th></th>\n",
       "    </tr>\n",
       "  </thead>\n",
       "  <tbody>\n",
       "    <tr>\n",
       "      <th>1</th>\n",
       "      <td>149</td>\n",
       "      <td>201</td>\n",
       "      <td>350</td>\n",
       "    </tr>\n",
       "    <tr>\n",
       "      <th>2</th>\n",
       "      <td>175</td>\n",
       "      <td>118</td>\n",
       "      <td>293</td>\n",
       "    </tr>\n",
       "    <tr>\n",
       "      <th>3</th>\n",
       "      <td>528</td>\n",
       "      <td>181</td>\n",
       "      <td>709</td>\n",
       "    </tr>\n",
       "    <tr>\n",
       "      <th>All</th>\n",
       "      <td>852</td>\n",
       "      <td>500</td>\n",
       "      <td>1352</td>\n",
       "    </tr>\n",
       "  </tbody>\n",
       "</table>\n",
       "</div>"
      ],
      "text/plain": [
       "Lived_Died       died  lived   All\n",
       "Passenger_Class                   \n",
       "1                 149    201   350\n",
       "2                 175    118   293\n",
       "3                 528    181   709\n",
       "All               852    500  1352"
      ]
     },
     "execution_count": 35,
     "metadata": {},
     "output_type": "execute_result"
    }
   ],
   "source": [
    "# Create a contingency table\n",
    "passenger_df = pd.read_csv('../data/Titanic_Passengers.csv')\n",
    "contingency_table = pd.crosstab(passenger_df['Passenger_Class'], passenger_df['Lived_Died'], margins=True)\n",
    "contingency_table"
   ]
  },
  {
   "cell_type": "code",
   "execution_count": 41,
   "metadata": {},
   "outputs": [
    {
     "data": {
      "text/plain": [
       "<Axes: xlabel='Lived_Died'>"
      ]
     },
     "execution_count": 41,
     "metadata": {},
     "output_type": "execute_result"
    },
    {
     "data": {
      "image/png": "[encoded data removed]",
      "text/plain": [
       "<Figure size 640x480 with 1 Axes>"
      ]
     },
     "metadata": {},
     "output_type": "display_data"
    }
   ],
   "source": [
    "# Create a Bar Plot with the data stacked\n",
    "contingency_table = pd.crosstab( passenger_df['Lived_Died'], passenger_df['Passenger_Class'], margins=False)\n",
    "contingency_table.plot(kind='bar', stacked=True)"
   ]
  },
  {
   "cell_type": "code",
   "execution_count": 44,
   "metadata": {},
   "outputs": [
    {
     "data": {
      "text/plain": [
       "(104.05195288933228, 2.543346399916496e-23, 2)"
      ]
     },
     "execution_count": 44,
     "metadata": {},
     "output_type": "execute_result"
    }
   ],
   "source": [
    "# Run a chi2_contingency on the table\n",
    "contingency_table = pd.crosstab(passenger_df['Passenger_Class'], passenger_df['Lived_Died'], margins=False)\n",
    "stats.chi2_contingency(contingency_table)[0:3]\n"
   ]
  },
  {
   "cell_type": "markdown",
   "metadata": {},
   "source": [
    "Which passenger class is responsible for the significant difference in survival rate?\n",
    "- Chi-square test offers that at lear `one` of the passenger class different from what we would expect if the variables were independent\n",
    "- Since this our first test, it is considered a `Prioro Test`\n",
    "- To continue our analysis, we will run another test, a `Post Hoc` test"
   ]
  },
  {
   "cell_type": "markdown",
   "metadata": {},
   "source": [
    "### Post-Hoc Test (Fisher's Exact Test)\n",
    "\n",
    "- Compare every passenger class to every other class to see if there is statistical significance between the two.\n",
    "- We could apply a `Chi-square` test for for each of the three separate comparison, but the sample data is to small\n",
    "- in this case `Fisher's Exact` test is a better option"
   ]
  },
  {
   "cell_type": "code",
   "execution_count": 47,
   "metadata": {},
   "outputs": [
    {
     "data": {
      "text/html": [
       "<div>\n",
       "<style scoped>\n",
       "    .dataframe tbody tr th:only-of-type {\n",
       "        vertical-align: middle;\n",
       "    }\n",
       "\n",
       "    .dataframe tbody tr th {\n",
       "        vertical-align: top;\n",
       "    }\n",
       "\n",
       "    .dataframe thead th {\n",
       "        text-align: right;\n",
       "    }\n",
       "</style>\n",
       "<table border=\"1\" class=\"dataframe\">\n",
       "  <thead>\n",
       "    <tr style=\"text-align: right;\">\n",
       "      <th>Lived_Died</th>\n",
       "      <th>died</th>\n",
       "      <th>lived</th>\n",
       "    </tr>\n",
       "    <tr>\n",
       "      <th>Passenger_Class</th>\n",
       "      <th></th>\n",
       "      <th></th>\n",
       "    </tr>\n",
       "  </thead>\n",
       "  <tbody>\n",
       "    <tr>\n",
       "      <th>1</th>\n",
       "      <td>149</td>\n",
       "      <td>201</td>\n",
       "    </tr>\n",
       "    <tr>\n",
       "      <th>2</th>\n",
       "      <td>175</td>\n",
       "      <td>118</td>\n",
       "    </tr>\n",
       "    <tr>\n",
       "      <th>3</th>\n",
       "      <td>528</td>\n",
       "      <td>181</td>\n",
       "    </tr>\n",
       "  </tbody>\n",
       "</table>\n",
       "</div>"
      ],
      "text/plain": [
       "Lived_Died       died  lived\n",
       "Passenger_Class             \n",
       "1                 149    201\n",
       "2                 175    118\n",
       "3                 528    181"
      ]
     },
     "execution_count": 47,
     "metadata": {},
     "output_type": "execute_result"
    }
   ],
   "source": [
    "import pandas as pd\n",
    "import seaborn as sns\n",
    "import matplotlib.pyplot as plt\n",
    "%matplotlib inline\n",
    "from sklearn import preprocessing\n",
    "from scipy import stats\n",
    "\n",
    "passenger_df = pd.read_csv('../data/Titanic_Passengers.csv')\n",
    "contingency_table = pd.crosstab(passenger_df['Passenger_Class'], passenger_df['Lived_Died'], margins=False)\n",
    "contingency_table"
   ]
  },
  {
   "cell_type": "code",
   "execution_count": 49,
   "metadata": {},
   "outputs": [
    {
     "name": "stdout",
     "output_type": "stream",
     "text": [
      "Fishers Exact Test for First and Second Class 1.827149276703859e-05\n",
      "Fishers Exact Test for First and Third Class 7.457205699022123e-24\n",
      "Fishers Exact Test for Second and Third Class 5.007621820657881e-06\n"
     ]
    }
   ],
   "source": [
    "first_class = contingency_table.iloc[0].values # Extracts rows values\n",
    "second_class = contingency_table.iloc[1].values # Extracts rows values\n",
    "third_class = contingency_table.iloc[2].values # Extracts rows values\n",
    "# Create a Fisher's Exact Test to determine if there is a relationship between passenger classes and survival\n",
    "oddsratio, pvalue = stats.fisher_exact([first_class, second_class])\n",
    "print(f'Fishers Exact Test for First and Second Class {pvalue}')\n",
    "oddsratio, pvalue = stats.fisher_exact([first_class, third_class])\n",
    "print(f'Fishers Exact Test for First and Third Class {pvalue}')\n",
    "oddsratio, pvalue = stats.fisher_exact([second_class, third_class])\n",
    "print(f'Fishers Exact Test for Second and Third Class {pvalue}')\n",
    "# They all have statical significant to each other"
   ]
  },
  {
   "cell_type": "markdown",
   "metadata": {},
   "source": [
    "Each of the Fisher's Test reveals statistical significance\n",
    "Another way to conceptualize the results is to look at percentages:\n",
    "\n",
    "| Passenger Class | Died|\n",
    "|-----------------------|\n",
    "| First class 43% | 43% |\n",
    "| Second class 60%| 60% |\n",
    "|Third class 75%  | 75% |\n",
    "\n",
    "TODO: Make a heat make of something I don't know what though"
   ]
  },
  {
   "cell_type": "code",
   "execution_count": 55,
   "metadata": {},
   "outputs": [
    {
     "name": "stderr",
     "output_type": "stream",
     "text": [
      "C:\\Users\\gambl\\AppData\\Local\\Temp\\ipykernel_3856\\435685756.py:9: FutureWarning: The default value of observed=False is deprecated and will change to observed=True in a future version of pandas. Specify observed=False to silence this warning and retain the current behavior\n",
      "  pivot_table = pd.pivot_table(passenger_df, values='Lived_Died_Int', index=['Gender'], columns=['age_bins', 'Passenger_Class'])\n",
      "C:\\Users\\gambl\\AppData\\Local\\Temp\\ipykernel_3856\\435685756.py:10: FutureWarning: DataFrame.applymap has been deprecated. Use DataFrame.map instead.\n",
      "  pivot_table.applymap(lambda x: 1-x)\n"
     ]
    },
    {
     "data": {
      "text/plain": [
       "<Axes: xlabel='age_bins-Passenger_Class', ylabel='Gender'>"
      ]
     },
     "execution_count": 55,
     "metadata": {},
     "output_type": "execute_result"
    },
    {
     "data": {
      "image/png": "[encoded data removed]",
      "text/plain": [
       "<Figure size 1200x500 with 2 Axes>"
      ]
     },
     "metadata": {},
     "output_type": "display_data"
    }
   ],
   "source": [
    "passenger_df = pd.read_csv('../data/Titanic_Passengers.csv')\n",
    "\n",
    "passenger_df.drop(['Name', 'Born', 'Died', 'Fare', 'Fare_decimal'], axis=1, inplace=True)\n",
    "passenger_df.dropna(inplace=True)\n",
    "\n",
    "le = preprocessing.LabelEncoder()\n",
    "passenger_df['Lived_Died_Int'] = le.fit_transform(passenger_df['Lived_Died'])\n",
    "passenger_df['age_bins'] = pd.cut(x=passenger_df['Age'], bins=range(0,90,10))\n",
    "pivot_table = pd.pivot_table(passenger_df, values='Lived_Died_Int', index=['Gender'], columns=['age_bins', 'Passenger_Class']) \n",
    "pivot_table.applymap(lambda x: 1-x)\n",
    "\n",
    "plt.figure(figsize=(12,5))\n",
    "x_axis_lables = ['P1: 0-9', 'P1:10-19', 'P1:20-29', 'P1:30-39', 'P1:40-49', 'P1:50-59', 'P1:60-69', 'P1:70-79',\n",
    "                 'P2: 0-9', 'P2:10-19', 'P2:20-29', 'P2:30-39', 'P2:40-49', 'P2:50-59', 'P2:60-69', 'P2:70-79'\n",
    "                 'P3: 0-9', 'P3:10-19', 'P3:20-29', 'P3:30-39', 'P3:40-49', 'P3:50-59', 'P3:60-69', 'P3:70-79']\n",
    "sns.heatmap(pivot_table, annot=True, yticklabels=['Female, Male'], xticklabels=x_axis_lables, fmt='.2f', cmap='rocket')"
   ]
  },
  {
   "cell_type": "markdown",
   "metadata": {},
   "source": [
    "### T-Test: Fare and Gender\n",
    "\n",
    "While `Chi-Test` and `Fisher-Test` focus on `categorical` discrete dependent variable, the `T-Test` and `ANOVA` test, target `continues` date.\n",
    "\n",
    "#### How was Fare (price of passage) Affected by Gender and Passenger Class?\n",
    "- Did one gender pay more than the other?\n",
    "- Is there a difference in fare between passenger classes?\n",
    "- Is there an interaction between gender and passenger class on the resulting fare?"
   ]
  },
  {
   "cell_type": "code",
   "execution_count": 57,
   "metadata": {},
   "outputs": [
    {
     "data": {
      "text/html": [
       "<div>\n",
       "<style scoped>\n",
       "    .dataframe tbody tr th:only-of-type {\n",
       "        vertical-align: middle;\n",
       "    }\n",
       "\n",
       "    .dataframe tbody tr th {\n",
       "        vertical-align: top;\n",
       "    }\n",
       "\n",
       "    .dataframe thead th {\n",
       "        text-align: right;\n",
       "    }\n",
       "</style>\n",
       "<table border=\"1\" class=\"dataframe\">\n",
       "  <thead>\n",
       "    <tr style=\"text-align: right;\">\n",
       "      <th></th>\n",
       "      <th>Name</th>\n",
       "      <th>Born</th>\n",
       "      <th>Died</th>\n",
       "      <th>Age</th>\n",
       "      <th>Gender</th>\n",
       "      <th>Passenger_Class</th>\n",
       "      <th>Lived_Died</th>\n",
       "      <th>Fare</th>\n",
       "      <th>Fare_decimal</th>\n",
       "    </tr>\n",
       "  </thead>\n",
       "  <tbody>\n",
       "    <tr>\n",
       "      <th>0</th>\n",
       "      <td>DEAN, Miss Elizabeth Gladys Millvina</td>\n",
       "      <td>1912.0</td>\n",
       "      <td>2009.0</td>\n",
       "      <td>0.166667</td>\n",
       "      <td>Female</td>\n",
       "      <td>3</td>\n",
       "      <td>lived</td>\n",
       "      <td>£20             11s             6d</td>\n",
       "      <td>20.58</td>\n",
       "    </tr>\n",
       "    <tr>\n",
       "      <th>1</th>\n",
       "      <td>DANBOM, Master Gilbert Sigvard Emanuel</td>\n",
       "      <td>1911.0</td>\n",
       "      <td>1912.0</td>\n",
       "      <td>0.333333</td>\n",
       "      <td>Male</td>\n",
       "      <td>3</td>\n",
       "      <td>died</td>\n",
       "      <td>£14             8s</td>\n",
       "      <td>14.40</td>\n",
       "    </tr>\n",
       "    <tr>\n",
       "      <th>2</th>\n",
       "      <td>TANNūS, Master As'ad</td>\n",
       "      <td>1911.0</td>\n",
       "      <td>1931.0</td>\n",
       "      <td>0.416667</td>\n",
       "      <td>Male</td>\n",
       "      <td>3</td>\n",
       "      <td>lived</td>\n",
       "      <td>£8             10s             4d</td>\n",
       "      <td>8.52</td>\n",
       "    </tr>\n",
       "    <tr>\n",
       "      <th>3</th>\n",
       "      <td>PEACOCK, Master Albert Edward</td>\n",
       "      <td>1911.0</td>\n",
       "      <td>1912.0</td>\n",
       "      <td>0.583333</td>\n",
       "      <td>Male</td>\n",
       "      <td>3</td>\n",
       "      <td>died</td>\n",
       "      <td>£13             15s             6d</td>\n",
       "      <td>13.78</td>\n",
       "    </tr>\n",
       "    <tr>\n",
       "      <th>4</th>\n",
       "      <td>RICHARDS, Master Sibley George</td>\n",
       "      <td>1911.0</td>\n",
       "      <td>1987.0</td>\n",
       "      <td>0.750000</td>\n",
       "      <td>Male</td>\n",
       "      <td>2</td>\n",
       "      <td>lived</td>\n",
       "      <td>£18             15s</td>\n",
       "      <td>18.75</td>\n",
       "    </tr>\n",
       "    <tr>\n",
       "      <th>...</th>\n",
       "      <td>...</td>\n",
       "      <td>...</td>\n",
       "      <td>...</td>\n",
       "      <td>...</td>\n",
       "      <td>...</td>\n",
       "      <td>...</td>\n",
       "      <td>...</td>\n",
       "      <td>...</td>\n",
       "      <td>...</td>\n",
       "    </tr>\n",
       "    <tr>\n",
       "      <th>1347</th>\n",
       "      <td>FLETCHER, Miss N.</td>\n",
       "      <td>NaN</td>\n",
       "      <td>NaN</td>\n",
       "      <td>NaN</td>\n",
       "      <td>Female</td>\n",
       "      <td>1</td>\n",
       "      <td>died</td>\n",
       "      <td>£1             10s</td>\n",
       "      <td>1.50</td>\n",
       "    </tr>\n",
       "    <tr>\n",
       "      <th>1348</th>\n",
       "      <td>STEVENS, Mr George</td>\n",
       "      <td>NaN</td>\n",
       "      <td>NaN</td>\n",
       "      <td>NaN</td>\n",
       "      <td>Male</td>\n",
       "      <td>1</td>\n",
       "      <td>died</td>\n",
       "      <td>£1             10s</td>\n",
       "      <td>1.50</td>\n",
       "    </tr>\n",
       "    <tr>\n",
       "      <th>1349</th>\n",
       "      <td>CARRUTHERS, Mr Francis</td>\n",
       "      <td>NaN</td>\n",
       "      <td>NaN</td>\n",
       "      <td>NaN</td>\n",
       "      <td>Male</td>\n",
       "      <td>1</td>\n",
       "      <td>died</td>\n",
       "      <td>NaN</td>\n",
       "      <td>NaN</td>\n",
       "    </tr>\n",
       "    <tr>\n",
       "      <th>1350</th>\n",
       "      <td>COLLIS, Mr</td>\n",
       "      <td>NaN</td>\n",
       "      <td>NaN</td>\n",
       "      <td>NaN</td>\n",
       "      <td>Male</td>\n",
       "      <td>1</td>\n",
       "      <td>died</td>\n",
       "      <td>NaN</td>\n",
       "      <td>NaN</td>\n",
       "    </tr>\n",
       "    <tr>\n",
       "      <th>1351</th>\n",
       "      <td>WILDING, Mr Edward</td>\n",
       "      <td>NaN</td>\n",
       "      <td>NaN</td>\n",
       "      <td>NaN</td>\n",
       "      <td>Male</td>\n",
       "      <td>1</td>\n",
       "      <td>died</td>\n",
       "      <td>NaN</td>\n",
       "      <td>NaN</td>\n",
       "    </tr>\n",
       "  </tbody>\n",
       "</table>\n",
       "<p>1352 rows × 9 columns</p>\n",
       "</div>"
      ],
      "text/plain": [
       "                                        Name    Born    Died       Age  \\\n",
       "0       DEAN, Miss Elizabeth Gladys Millvina  1912.0  2009.0  0.166667   \n",
       "1     DANBOM, Master Gilbert Sigvard Emanuel  1911.0  1912.0  0.333333   \n",
       "2                       TANNūS, Master As'ad  1911.0  1931.0  0.416667   \n",
       "3              PEACOCK, Master Albert Edward  1911.0  1912.0  0.583333   \n",
       "4             RICHARDS, Master Sibley George  1911.0  1987.0  0.750000   \n",
       "...                                      ...     ...     ...       ...   \n",
       "1347                       FLETCHER, Miss N.     NaN     NaN       NaN   \n",
       "1348                      STEVENS, Mr George     NaN     NaN       NaN   \n",
       "1349                  CARRUTHERS, Mr Francis     NaN     NaN       NaN   \n",
       "1350                              COLLIS, Mr     NaN     NaN       NaN   \n",
       "1351                      WILDING, Mr Edward     NaN     NaN       NaN   \n",
       "\n",
       "      Gender  Passenger_Class Lived_Died                                Fare  \\\n",
       "0     Female                3      lived  £20             11s             6d   \n",
       "1       Male                3       died                  £14             8s   \n",
       "2       Male                3      lived   £8             10s             4d   \n",
       "3       Male                3       died  £13             15s             6d   \n",
       "4       Male                2      lived                 £18             15s   \n",
       "...      ...              ...        ...                                 ...   \n",
       "1347  Female                1       died                  £1             10s   \n",
       "1348    Male                1       died                  £1             10s   \n",
       "1349    Male                1       died                                 NaN   \n",
       "1350    Male                1       died                                 NaN   \n",
       "1351    Male                1       died                                 NaN   \n",
       "\n",
       "      Fare_decimal  \n",
       "0            20.58  \n",
       "1            14.40  \n",
       "2             8.52  \n",
       "3            13.78  \n",
       "4            18.75  \n",
       "...            ...  \n",
       "1347          1.50  \n",
       "1348          1.50  \n",
       "1349           NaN  \n",
       "1350           NaN  \n",
       "1351           NaN  \n",
       "\n",
       "[1352 rows x 9 columns]"
      ]
     },
     "execution_count": 57,
     "metadata": {},
     "output_type": "execute_result"
    }
   ],
   "source": [
    "import pandas as pd\n",
    "import seaborn as sns\n",
    "import matplotlib.pyplot as plt\n",
    "%matplotlib inline\n",
    "from sklearn import preprocessing\n",
    "from scipy import stats\n",
    "\n",
    "passenger_df = pd.read_csv('../data/Titanic_Passengers.csv')\n",
    "passenger_df"
   ]
  },
  {
   "cell_type": "code",
   "execution_count": 58,
   "metadata": {},
   "outputs": [
    {
     "data": {
      "text/plain": [
       "Text(0.5, 1.0, 'Amount of Fare Paid Based on Gender')"
      ]
     },
     "execution_count": 58,
     "metadata": {},
     "output_type": "execute_result"
    },
    {
     "data": {
      "image/png": "[encoded data removed]",
      "text/plain": [
       "<Figure size 640x480 with 1 Axes>"
      ]
     },
     "metadata": {},
     "output_type": "display_data"
    }
   ],
   "source": [
    "# Visulize the data using box plot\n",
    "sns.boxplot(y=passenger_df['Fare_decimal'], x=passenger_df['Gender'])\n",
    "plt.ylabel('Fare Amount in Pounds')\n",
    "plt.title('Amount of Fare Paid Based on Gender')"
   ]
  },
  {
   "cell_type": "code",
   "execution_count": 65,
   "metadata": {},
   "outputs": [
    {
     "data": {
      "text/plain": [
       "count    839.000000\n",
       "mean      26.226067\n",
       "std       42.514485\n",
       "min        1.000000\n",
       "25%        7.895000\n",
       "50%       12.350000\n",
       "75%       26.550000\n",
       "max      512.330000\n",
       "Name: Fare_decimal, dtype: float64"
      ]
     },
     "execution_count": 65,
     "metadata": {},
     "output_type": "execute_result"
    }
   ],
   "source": [
    "male = passenger_df['Fare_decimal'].loc[passenger_df['Gender']== 'Male']\n",
    "male.describe()"
   ]
  },
  {
   "cell_type": "code",
   "execution_count": 66,
   "metadata": {},
   "outputs": [
    {
     "data": {
      "text/plain": [
       "count    482.000000\n",
       "mean      45.118299\n",
       "std       63.149875\n",
       "min        1.000000\n",
       "25%       10.460000\n",
       "50%       21.555000\n",
       "75%       54.525000\n",
       "max      512.330000\n",
       "Name: Fare_decimal, dtype: float64"
      ]
     },
     "execution_count": 66,
     "metadata": {},
     "output_type": "execute_result"
    }
   ],
   "source": [
    "female = passenger_df['Fare_decimal'].loc[passenger_df['Gender']== 'Female']\n",
    "female.describe()"
   ]
  },
  {
   "cell_type": "code",
   "execution_count": 67,
   "metadata": {},
   "outputs": [
    {
     "name": "stdout",
     "output_type": "stream",
     "text": [
      "T-test for face paid p-values 6.093364811911871e-13\n"
     ]
    }
   ],
   "source": [
    "from scipy.stats import ttest_ind\n",
    "# Drop null values\n",
    "passenger_df.dropna(inplace=True)\n",
    "male = passenger_df[passenger_df['Gender'] == 'Male']\n",
    "female = passenger_df[passenger_df['Gender'] == 'Female']\n",
    "\n",
    "statisics, pvalue = ttest_ind(male['Fare_decimal'], female['Fare_decimal'])\n",
    "\n",
    "print(f'T-test for face paid p-values {pvalue}')\n"
   ]
  }
 ],
 "metadata": {
  "kernelspec": {
   "display_name": "module6",
   "language": "python",
   "name": "python3"
  },
  "language_info": {
   "codemirror_mode": {
    "name": "ipython",
    "version": 3
   },
   "file_extension": ".py",
   "mimetype": "text/x-python",
   "name": "python",
   "nbconvert_exporter": "python",
   "pygments_lexer": "ipython3",
   "version": "3.12.7"
  }
 },
 "nbformat": 4,
 "nbformat_minor": 2
}
