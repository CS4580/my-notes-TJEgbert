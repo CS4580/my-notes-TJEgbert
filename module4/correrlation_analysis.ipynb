{
 "cells": [
  {
   "cell_type": "markdown",
   "metadata": {},
   "source": [
    "# Correlation Analysis\n",
    "- What is correlation?\n",
    "- How does correlation analysis help with data cleaning?\n",
    "- Coding Example"
   ]
  },
  {
   "cell_type": "markdown",
   "metadata": {},
   "source": [
    "### Correlation Analysis\n",
    "Is a statistical technique to examine the strength and direction of the relationship\n",
    "between two or more variables\n",
    "\n",
    "Analyze the degree to which changes from one variable is associated with changes from another variable"
   ]
  },
  {
   "cell_type": "markdown",
   "metadata": {},
   "source": [
    "### How to do it?\n",
    "Use `Correlation Coefficients`, which is a measurement of the strength and the direction of the relationship between the two variables\n",
    "\n",
    "$$\n",
    "\\{Y, X\\}\n",
    "$$"
   ]
  },
  {
   "cell_type": "markdown",
   "metadata": {},
   "source": [
    "### Popular Correlation Coefficients\n",
    "\n",
    "#### Pearson \n",
    "- Use for continuous data\n",
    "- Measure the strength of the `linear relationship` between the variables\n",
    "- Sensitive to outliers\n",
    "\n",
    "#### Spearman\n",
    "- Use for ordinal or ranked data\n",
    "- Measure the strength of the `monotonic relationship` between the variables, which can be linear or non-linear\n",
    "- more robust towards outlier"
   ]
  },
  {
   "cell_type": "markdown",
   "metadata": {},
   "source": [
    "Correlation analysis can identify variables that are highly correlated to each other.\n",
    "\n",
    "You analysis may indicate if one variable is `redundant` and can be eliminated"
   ]
  },
  {
   "cell_type": "markdown",
   "metadata": {},
   "source": [
    "### Dealing with Categorical Data\n",
    "- Data has many `non-numeric` features.  You CAN NOT feed them into a learning model.  They need to be converted. \n",
    "- Use the `pd.dytpes()` to see the data types\n",
    "\n",
    "### Two main types\n",
    "- Label encoding\n",
    "- One-hot encoding"
   ]
  },
  {
   "cell_type": "markdown",
   "metadata": {},
   "source": [
    "### Label Encoding\n",
    "Each `unique` category in the categorical variable is assigned a numerical label.  Typically starting 0, 1, etc"
   ]
  },
  {
   "cell_type": "markdown",
   "metadata": {},
   "source": [
    "### One-hot Encoding\n",
    "A new binary feature is created `for each` category, and the value of that feature is set to 1 if the observation belongs the that."
   ]
  },
  {
   "cell_type": "markdown",
   "metadata": {},
   "source": []
  }
 ],
 "metadata": {
  "kernelspec": {
   "display_name": "module4",
   "language": "python",
   "name": "python3"
  },
  "language_info": {
   "codemirror_mode": {
    "name": "ipython",
    "version": 3
   },
   "file_extension": ".py",
   "mimetype": "text/x-python",
   "name": "python",
   "nbconvert_exporter": "python",
   "pygments_lexer": "ipython3",
   "version": "3.12.5"
  }
 },
 "nbformat": 4,
 "nbformat_minor": 2
}
